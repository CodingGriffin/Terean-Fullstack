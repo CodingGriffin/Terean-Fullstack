{
 "cells": [
  {
   "cell_type": "code",
   "id": "initial_id",
   "metadata": {
    "collapsed": true,
    "ExecuteTime": {
     "end_time": "2025-01-10T06:42:09.789796Z",
     "start_time": "2025-01-10T06:42:09.085214Z"
    }
   },
   "source": [
    "import obspy\n",
    "import numpy as np"
   ],
   "outputs": [
    {
     "data": {
      "text/plain": [
       "True"
      ]
     },
     "execution_count": 1,
     "metadata": {},
     "output_type": "execute_result"
    }
   ],
   "execution_count": 1
  },
  {
   "metadata": {
    "ExecuteTime": {
     "end_time": "2025-01-10T06:37:15.361528Z",
     "start_time": "2025-01-10T06:37:15.319800Z"
    }
   },
   "cell_type": "code",
   "source": [
    "record_path = \"0001.sgy\"\n",
    "test_read = obspy.read(record_path, dtype=np.float64)"
   ],
   "id": "bdcee23fcc375c2",
   "outputs": [
    {
     "name": "stdout",
     "output_type": "stream",
     "text": [
      "ASDF\n",
      "Exception 2\n",
      "Too ambiguous, therefore not implemented.\n"
     ]
    },
    {
     "ename": "HTTPException",
     "evalue": "500: Error trying to read data.",
     "output_type": "error",
     "traceback": [
      "\u001B[1;31m---------------------------------------------------------------------------\u001B[0m",
      "\u001B[1;31mNotImplementedError\u001B[0m                       Traceback (most recent call last)",
      "File \u001B[1;32m~\\Desktop\\Fullstack\\terean-full-stack\\backend\\utils\\sgy_utils.py:10\u001B[0m, in \u001B[0;36mvalidate_record\u001B[1;34m(record_file)\u001B[0m\n\u001B[0;32m      9\u001B[0m test_open \u001B[38;5;241m=\u001B[39m obspy\u001B[38;5;241m.\u001B[39mread(record_file, dtype\u001B[38;5;241m=\u001B[39mnp\u001B[38;5;241m.\u001B[39mfloat64)\n\u001B[1;32m---> 10\u001B[0m \u001B[38;5;28;01mif\u001B[39;00m \u001B[38;5;28mlen\u001B[39m(\u001B[43mtest_open\u001B[49m\u001B[43m \u001B[49m\u001B[38;5;241;43m<\u001B[39;49m\u001B[38;5;241;43m=\u001B[39;49m\u001B[43m \u001B[49m\u001B[38;5;241;43m0\u001B[39;49m):\n\u001B[0;32m     11\u001B[0m     \u001B[38;5;28;01mraise\u001B[39;00m HTTPException(\u001B[38;5;241m400\u001B[39m, \u001B[38;5;124m\"\u001B[39m\u001B[38;5;124mFile does not include any traces.\u001B[39m\u001B[38;5;124m\"\u001B[39m)\n",
      "File \u001B[1;32m~\\Desktop\\Fullstack\\terean-full-stack\\.venv\\lib\\site-packages\\obspy\\core\\stream.py:616\u001B[0m, in \u001B[0;36mStream.__le__\u001B[1;34m(self, other)\u001B[0m\n\u001B[0;32m    613\u001B[0m \u001B[38;5;250m\u001B[39m\u001B[38;5;124;03m\"\"\"\u001B[39;00m\n\u001B[0;32m    614\u001B[0m \u001B[38;5;124;03mToo ambiguous, throw an Error.\u001B[39;00m\n\u001B[0;32m    615\u001B[0m \u001B[38;5;124;03m\"\"\"\u001B[39;00m\n\u001B[1;32m--> 616\u001B[0m \u001B[38;5;28;01mraise\u001B[39;00m \u001B[38;5;167;01mNotImplementedError\u001B[39;00m(\u001B[38;5;124m\"\u001B[39m\u001B[38;5;124mToo ambiguous, therefore not implemented.\u001B[39m\u001B[38;5;124m\"\u001B[39m)\n",
      "\u001B[1;31mNotImplementedError\u001B[0m: Too ambiguous, therefore not implemented.",
      "\nDuring handling of the above exception, another exception occurred:\n",
      "\u001B[1;31mHTTPException\u001B[0m                             Traceback (most recent call last)",
      "Cell \u001B[1;32mIn[21], line 2\u001B[0m\n\u001B[0;32m      1\u001B[0m record_path \u001B[38;5;241m=\u001B[39m \u001B[38;5;124m\"\u001B[39m\u001B[38;5;124m0001.sgy\u001B[39m\u001B[38;5;124m\"\u001B[39m\n\u001B[1;32m----> 2\u001B[0m \u001B[43mvalidate_record\u001B[49m\u001B[43m(\u001B[49m\u001B[38;5;124;43m\"\u001B[39;49m\u001B[38;5;124;43m0001.sgy\u001B[39;49m\u001B[38;5;124;43m\"\u001B[39;49m\u001B[43m)\u001B[49m\n",
      "File \u001B[1;32m~\\Desktop\\Fullstack\\terean-full-stack\\backend\\utils\\sgy_utils.py:28\u001B[0m, in \u001B[0;36mvalidate_record\u001B[1;34m(record_file)\u001B[0m\n\u001B[0;32m     26\u001B[0m \u001B[38;5;28mprint\u001B[39m(\u001B[38;5;124m\"\u001B[39m\u001B[38;5;124mException 2\u001B[39m\u001B[38;5;124m\"\u001B[39m)\n\u001B[0;32m     27\u001B[0m \u001B[38;5;28mprint\u001B[39m(e)\n\u001B[1;32m---> 28\u001B[0m \u001B[38;5;28;01mraise\u001B[39;00m HTTPException(\u001B[38;5;241m500\u001B[39m, \u001B[38;5;124m\"\u001B[39m\u001B[38;5;124mError trying to read data.\u001B[39m\u001B[38;5;124m\"\u001B[39m)\n",
      "\u001B[1;31mHTTPException\u001B[0m: 500: Error trying to read data."
     ]
    }
   ],
   "execution_count": 21
  },
  {
   "metadata": {
    "ExecuteTime": {
     "end_time": "2025-01-10T05:52:36.936853Z",
     "start_time": "2025-01-10T05:52:36.923853Z"
    }
   },
   "cell_type": "code",
   "source": "test_read",
   "id": "b2b524321647cbc0",
   "outputs": [
    {
     "data": {
      "text/plain": [
       "24 Trace(s) in Stream:\n",
       "\n",
       "Seq. No. in line:    1 | 2024-08-06T17:03:30.000000Z - 2024-08-06T17:03:59.998000Z | 500.0 Hz, 15000 samples\n",
       "...\n",
       "(22 other traces)\n",
       "...\n",
       "Seq. No. in line:   24 | 2024-08-06T17:03:30.000000Z - 2024-08-06T17:03:59.998000Z | 500.0 Hz, 15000 samples\n",
       "\n",
       "[Use \"print(Stream.__str__(extended=True))\" to print all Traces]"
      ]
     },
     "execution_count": 3,
     "metadata": {},
     "output_type": "execute_result"
    }
   ],
   "execution_count": 3
  },
  {
   "metadata": {
    "ExecuteTime": {
     "end_time": "2025-01-10T05:54:33.556857Z",
     "start_time": "2025-01-10T05:54:33.541857Z"
    }
   },
   "cell_type": "code",
   "source": "len(test_read)",
   "id": "9e12f7362a710b7",
   "outputs": [
    {
     "data": {
      "text/plain": [
       "24"
      ]
     },
     "execution_count": 4,
     "metadata": {},
     "output_type": "execute_result"
    }
   ],
   "execution_count": 4
  },
  {
   "metadata": {
    "ExecuteTime": {
     "end_time": "2025-01-10T05:56:54.549030Z",
     "start_time": "2025-01-10T05:56:54.538030Z"
    }
   },
   "cell_type": "code",
   "source": "len(test_read[0])",
   "id": "53de2e8e315da17b",
   "outputs": [
    {
     "data": {
      "text/plain": [
       "15000"
      ]
     },
     "execution_count": 6,
     "metadata": {},
     "output_type": "execute_result"
    }
   ],
   "execution_count": 6
  },
  {
   "metadata": {
    "ExecuteTime": {
     "end_time": "2025-01-10T05:58:54.383539Z",
     "start_time": "2025-01-10T05:58:54.371541Z"
    }
   },
   "cell_type": "code",
   "source": "\"delta\" in test_read[0].stats",
   "id": "1ab273e332636634",
   "outputs": [
    {
     "data": {
      "text/plain": [
       "True"
      ]
     },
     "execution_count": 8,
     "metadata": {},
     "output_type": "execute_result"
    }
   ],
   "execution_count": 8
  },
  {
   "metadata": {
    "ExecuteTime": {
     "end_time": "2025-01-10T05:59:13.803645Z",
     "start_time": "2025-01-10T05:59:13.789643Z"
    }
   },
   "cell_type": "code",
   "source": "test_read[0].stats",
   "id": "c75efb7eda279ed",
   "outputs": [
    {
     "data": {
      "text/plain": [
       "         network: \n",
       "         station: \n",
       "        location: \n",
       "         channel: \n",
       "       starttime: 2024-08-06T17:03:30.000000Z\n",
       "         endtime: 2024-08-06T17:03:59.998000Z\n",
       "   sampling_rate: 500.0\n",
       "           delta: 0.002\n",
       "            npts: 15000\n",
       "           calib: 1.0\n",
       "         _format: SEGY\n",
       "            segy: AttribDict({'trace_header': LazyTraceHeaderAttribDict({'unpacked_header': b'\\x00\\x00\\x00\\x01\\x00\\x00\\x00\\x01\\x00\\x00\\x00\\x01\\x00\\x00\\x00\\x01\\x00\\x00\\x00\\x00\\x00\\x00\\x00\\x00\\x00\\x00\\x00\\x01\\x00\\x01\\x00\\x00\\x00\\x00\\x00\\x00\\x00\\x00\\x00\\x00\\x00\\x00\\x00\\x00\\x00\\x00\\x00\\x00\\x00\\x00\\x00\\x00\\x00\\x00\\x00\\x00\\x00\\x00\\x00\\x00\\x00\\x00\\x00\\x00\\x00\\x00\\x00\\x00\\xff\\x9c\\xff\\x9c\\x00\\x00\\x00\\x00\\x00\\x00\\x00\\x00\\x00\\x00\\x00\\x00\\x00\\x00\\x00\\x00\\x00\\x01\\x00\\x00\\x00\\x00\\x00\\x00\\x00\\x00\\x00\\x00\\x00\\x00\\x00\\x00\\x00\\x00\\x00\\x00\\x00\\x00\\x00\\x00\\x00\\x00:\\x98\\x07\\xd0\\x00\\x00\\x00\\x00\\x00\\x00\\x00\\x00\\x00\\x00\\x00\\x00\\x00\\x00\\x00\\x00\\x00\\x00\\x00\\x00\\x00\\x00\\x00\\x00\\x00\\x00\\x00\\x00\\x00\\x00\\x00\\x00\\x00\\x00\\x00\\x00\\x00\\x00\\x07\\xe8\\x00\\xdb\\x00\\x11\\x00\\x03\\x00\\x1e\\x00\\x02\\x00\\x00\\x00\\x00\\x00\\x00\\x00\\x00\\x00\\x00\\x00\\x00\\x00\\x00\\x00\\x00\\x00\\x00\\x00\\x00\\x00\\x00\\x00\\x00\\x00\\x00\\x00\\x00\\x00\\x00\\x00\\x00\\x00\\x00\\x00\\x00\\x00\\x00\\x00\\x01\\x00\\x00\\x00\\x02\\x07\\xe7\\x00\\x01\\x00\\x00\\x00\\x00\\x05\\xa8\\xe6\\xe8SH\\x06\\xff\\x0f\\xaf\\x00\\x00\\x00\\x00\\x00\\x0084\\x00\\x00', 'endian': '>', 'sample_interval_in_ms_for_this_trace': 2000, 'year_data_recorded': 2024, 'day_of_year': 219, 'hour_of_day': 17, 'minute_of_hour': 3, 'second_of_minute': 30, 'trace_sequence_number_within_line': 1})})"
      ]
     },
     "execution_count": 9,
     "metadata": {},
     "output_type": "execute_result"
    }
   ],
   "execution_count": 9
  },
  {
   "metadata": {
    "ExecuteTime": {
     "end_time": "2025-01-10T06:00:38.362767Z",
     "start_time": "2025-01-10T06:00:38.103602Z"
    }
   },
   "cell_type": "code",
   "source": "test_read[0].asdf",
   "id": "3490c47a834fb59c",
   "outputs": [
    {
     "ename": "AttributeError",
     "evalue": "'Trace' object has no attribute 'asdf'",
     "output_type": "error",
     "traceback": [
      "\u001B[1;31m---------------------------------------------------------------------------\u001B[0m",
      "\u001B[1;31mAttributeError\u001B[0m                            Traceback (most recent call last)",
      "Cell \u001B[1;32mIn[12], line 1\u001B[0m\n\u001B[1;32m----> 1\u001B[0m \u001B[43mtest_read\u001B[49m\u001B[43m[\u001B[49m\u001B[38;5;241;43m0\u001B[39;49m\u001B[43m]\u001B[49m\u001B[38;5;241;43m.\u001B[39;49m\u001B[43masdf\u001B[49m\n",
      "\u001B[1;31mAttributeError\u001B[0m: 'Trace' object has no attribute 'asdf'"
     ]
    }
   ],
   "execution_count": 12
  },
  {
   "metadata": {
    "ExecuteTime": {
     "end_time": "2025-01-10T06:01:10.792620Z",
     "start_time": "2025-01-10T06:01:10.778619Z"
    }
   },
   "cell_type": "code",
   "source": "hasattr(test_read[0], 'stats')",
   "id": "38d9790068fe4e6",
   "outputs": [
    {
     "data": {
      "text/plain": [
       "True"
      ]
     },
     "execution_count": 13,
     "metadata": {},
     "output_type": "execute_result"
    }
   ],
   "execution_count": 13
  },
  {
   "metadata": {},
   "cell_type": "code",
   "outputs": [],
   "execution_count": null,
   "source": "",
   "id": "20e410d0217b69e9"
  }
 ],
 "metadata": {
  "kernelspec": {
   "display_name": "Python 3",
   "language": "python",
   "name": "python3"
  },
  "language_info": {
   "codemirror_mode": {
    "name": "ipython",
    "version": 2
   },
   "file_extension": ".py",
   "mimetype": "text/x-python",
   "name": "python",
   "nbconvert_exporter": "python",
   "pygments_lexer": "ipython2",
   "version": "2.7.6"
  }
 },
 "nbformat": 4,
 "nbformat_minor": 5
}
