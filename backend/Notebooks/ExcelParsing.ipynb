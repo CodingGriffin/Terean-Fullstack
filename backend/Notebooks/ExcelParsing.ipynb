{
 "cells": [
  {
   "cell_type": "code",
   "id": "initial_id",
   "metadata": {
    "collapsed": true,
    "ExecuteTime": {
     "end_time": "2025-01-24T09:46:02.106036Z",
     "start_time": "2025-01-24T09:46:01.654134Z"
    }
   },
   "source": [
    "from set_notebook_path import check_path\n",
    "check_path()"
   ],
   "outputs": [],
   "execution_count": 1
  },
  {
   "metadata": {},
   "cell_type": "code",
   "outputs": [],
   "execution_count": null,
   "source": [
    "import numpy as np\n",
    "import pandas as pd\n",
    "import re\n",
    "import openpyxl"
   ],
   "id": "9c866e841c3b0c59"
  },
  {
   "metadata": {
    "ExecuteTime": {
     "end_time": "2025-01-24T09:46:03.047323Z",
     "start_time": "2025-01-24T09:46:03.034700Z"
    }
   },
   "cell_type": "code",
   "source": [
    "def get_data_from_excel(excel_path):\n",
    "    xf = pd.ExcelFile(excel_path)\n",
    "    sheet_names = xf.sheet_names\n",
    "    sheet_name_regex = re.compile(\"^Station Coords - N X Y Z[w+a-zA-Z0-9]*\")\n",
    "    candidate_sheet_names = [x for x in sheet_names if sheet_name_regex.search(x)]\n",
    "    sheet_name = None\n",
    "    if len(candidate_sheet_names) == 0:\n",
    "        raise ValueError(\"No valid sheet names found.\")\n",
    "    elif len(candidate_sheet_names) >= 1:\n",
    "        sheet_name = candidate_sheet_names[0]\n",
    "    df = xf.parse(sheet_name=sheet_name, header=2)\n",
    "    headers = df.columns.values.tolist()\n",
    "    if headers[0] != \"Phone\":\n",
    "        raise ValueError(\"Headers do not match expected value.\")\n",
    "    x_header = headers[1]\n",
    "    y_header = headers[2]\n",
    "    z_header = headers[3]\n",
    "    x_points = df[x_header]\n",
    "    y_points = df[y_header]\n",
    "    z_points = df[z_header]\n",
    "    return x_points, y_points, z_points\n",
    "\n",
    "\n",
    "def get_points_on_projection(start_point, end_point, to_project):\n",
    "    def get_point_on_projection(point_to_project):\n",
    "        # Based on solution here: https://stackoverflow.com/questions/61341712/calculate-projected-point-location-x-y-on-given-line-startx-y-endx-y\n",
    "        # Find distance between start and end points\n",
    "        l2 = np.sum((start_point - end_point) ** 2)\n",
    "        if l2 == 0:\n",
    "            raise ValueError(\"Start and end points are the same point!\")\n",
    "        t = np.sum((point_to_project - start_point) * (end_point - start_point)) / l2\n",
    "        return start_point + t * (end_point - start_point)\n",
    "\n",
    "    return np.apply_along_axis(get_point_on_projection, 1, to_project)\n",
    "\n",
    "\n",
    "def calc_array_distance(initial_point, distance_points):\n",
    "    return np.linalg.norm(initial_point - distance_points, axis=1)\n",
    "\n",
    "\n",
    "def get_geom_func_from_excel(excel_path, method: str = \"naive\"):\n",
    "    method = method.lower()\n",
    "\n",
    "    # Extract raw values\n",
    "    x_points, y_points, z_points = get_data_from_excel(excel_path)\n",
    "    xy_points = np.column_stack([x_points, y_points])\n",
    "    xyz_points = np.column_stack([x_points, y_points, z_points])\n",
    "\n",
    "    # Get peak elevation\n",
    "    peak_elevation = np.max(z_points)\n",
    "    depths = z_points - peak_elevation\n",
    "\n",
    "    positions = None\n",
    "    if method == \"naive\":\n",
    "        positions = calc_array_distance(xy_points[0], xy_points)\n",
    "    elif method == \"2d_fit\":\n",
    "        fit_line_x = np.unique(x_points)\n",
    "        fit_line_y = np.poly1d(np.polyfit(x_points, y_points, 1))(np.unique(x_points))\n",
    "        fit_line = np.column_stack([fit_line_x, fit_line_y])\n",
    "        projected_points = get_points_on_projection(fit_line[0], fit_line[-1], xy_points)\n",
    "        projected_points_x = projected_points[:, 0]\n",
    "        projected_points_y = projected_points[:, 1]\n",
    "        positions = calc_array_distance(projected_points[0], projected_points)\n",
    "    elif method == \"3d_fit\":\n",
    "        raise NotImplementedError()\n",
    "    else:\n",
    "        raise ValueError(\"Method must be 'naive' or '2d_fit'\")\n",
    "\n",
    "    # Generate geometry function\n",
    "    geom_interp_func = lambda x: np.interp(x, positions, depths)\n",
    "    return geom_interp_func, peak_elevation\n",
    "\n"
   ],
   "id": "2b7483eac46768c5",
   "outputs": [],
   "execution_count": 2
  },
  {
   "metadata": {},
   "cell_type": "code",
   "outputs": [],
   "execution_count": null,
   "source": "",
   "id": "d0c838ddc314216d"
  }
 ],
 "metadata": {
  "kernelspec": {
   "display_name": "Python 3",
   "language": "python",
   "name": "python3"
  },
  "language_info": {
   "codemirror_mode": {
    "name": "ipython",
    "version": 2
   },
   "file_extension": ".py",
   "mimetype": "text/x-python",
   "name": "python",
   "nbconvert_exporter": "python",
   "pygments_lexer": "ipython2",
   "version": "2.7.6"
  }
 },
 "nbformat": 4,
 "nbformat_minor": 5
}
