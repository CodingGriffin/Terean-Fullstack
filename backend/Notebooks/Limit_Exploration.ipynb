{
 "cells": [
  {
   "metadata": {},
   "cell_type": "code",
   "outputs": [],
   "execution_count": null,
   "source": [
    "import os\n",
    "from tereancore.load_test_data.load_dataset import load_minden_metadata, load_louisville_metadata\n",
    "from tereancore.vspect import multi_vspect_stream\n",
    "\n",
    "# Load the data\n",
    "minden_metadata = load_minden_metadata()\n",
    "louisville_metadata = load_louisville_metadata()\n",
    "minden_spacing = 8\n",
    "minden_sgy = [os.path.join(minden_metadata[2], x) for x in os.listdir(minden_metadata[2])]"
   ],
   "id": "51e5122fb66e0e49"
  },
  {
   "metadata": {},
   "cell_type": "code",
   "outputs": [],
   "execution_count": null,
   "source": [
    "for item in minden_sgy:\n",
    "    print(item)"
   ],
   "id": "ff77557863a76099"
  },
  {
   "metadata": {},
   "cell_type": "code",
   "outputs": [],
   "execution_count": null,
   "source": [
    "test = multi_vspect_stream(\n",
    "    streams=minden_sgy,\n",
    "    geophone_distance=8,\n",
    "    f_min=0.0,\n",
    "    f_max=101.0,\n",
    "    f_points=100,\n",
    "    p_points=100,\n",
    "    p_max=1/50,\n",
    ")"
   ],
   "id": "9d22f5666a6cb951"
  },
  {
   "metadata": {},
   "cell_type": "code",
   "outputs": [],
   "execution_count": null,
   "source": "print(test['p_values'])",
   "id": "cbe7d76ba5964389"
  },
  {
   "metadata": {},
   "cell_type": "code",
   "outputs": [],
   "execution_count": null,
   "source": "print(len(test[\"grids\"]))",
   "id": "e2ed0899001e62ca"
  },
  {
   "metadata": {},
   "cell_type": "code",
   "outputs": [],
   "execution_count": null,
   "source": "",
   "id": "3d032eef091d5611"
  }
 ],
 "metadata": {},
 "nbformat": 4,
 "nbformat_minor": 5
}
