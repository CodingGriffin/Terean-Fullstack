{
 "cells": [
  {
   "metadata": {
    "ExecuteTime": {
     "end_time": "2025-01-08T00:36:46.086408Z",
     "start_time": "2025-01-08T00:36:45.533923Z"
    }
   },
   "cell_type": "code",
   "source": [
    "\n",
    "import numpy as np\n",
    "import pandas as pd\n",
    "from IPython.core.pylabtools import figsize\n",
    "from matplotlib import pyplot as plt\n",
    "import itertools\n"
   ],
   "id": "2b90e127d1250fc1",
   "outputs": [],
   "execution_count": 1
  },
  {
   "metadata": {
    "ExecuteTime": {
     "end_time": "2025-01-08T00:36:47.105298Z",
     "start_time": "2025-01-08T00:36:46.785101Z"
    }
   },
   "cell_type": "code",
   "source": "from backend.utils.utils import VelocityModel, auto_find_model_files\n",
   "id": "7ac6b078a255a304",
   "outputs": [],
   "execution_count": 2
  },
  {
   "metadata": {
    "ExecuteTime": {
     "end_time": "2025-01-05T04:27:43.214549Z",
     "start_time": "2025-01-05T04:27:43.200035Z"
    }
   },
   "cell_type": "code",
   "source": "",
   "id": "505ea0908b86851c",
   "outputs": [],
   "execution_count": null
  },
  {
   "metadata": {
    "ExecuteTime": {
     "end_time": "2025-01-05T04:44:17.545349Z",
     "start_time": "2025-01-05T04:44:17.516349Z"
    }
   },
   "cell_type": "code",
   "source": [
    "# Load the models\n",
    "unit_override = None\n",
    "vel_models_dir = \"C:/Users/dkb73/Downloads/2d Plotting/S-Wave/AGA-Sept/AGA_Lucille_L1_16m_60channels_W-E/2D\"\n",
    "vel_models, unit_str = auto_find_model_files(vel_models_dir, unit_override=unit_override)\n",
    "vel_models = vel_models[0:5]"
   ],
   "id": "cfcb1ea80bff0ae4",
   "outputs": [],
   "execution_count": 42
  },
  {
   "metadata": {
    "ExecuteTime": {
     "end_time": "2025-01-05T05:11:33.229023Z",
     "start_time": "2025-01-05T05:11:33.047981Z"
    }
   },
   "cell_type": "code",
   "source": [
    "def plot_multi_vel_models(vel_models_list: list[VelocityModel]):\n",
    "    num_vel_models = len(vel_models_list)\n",
    "\n",
    "    # # Get min and max velocities in the models, to set x scale\n",
    "    # mins = []\n",
    "    # maxs = []\n",
    "    # for vel_model in vel_models_list:\n",
    "    #     mins.append(np.min(vel_model.df['Velocity'].to_numpy()))\n",
    "    #     maxs.append(np.max(vel_model.df['Velocity'].to_numpy()))\n",
    "    # min_x = np.min(mins)\n",
    "    # max_x = np.max(maxs)\n",
    "    # base_diff = max_x - min_x\n",
    "    # min_x = min_x - base_diff/1.5\n",
    "    # max_x = max_x + base_diff/5\n",
    "\n",
    "    # Create plot with # subplots\n",
    "    fig, axs = plt.subplots(1, num_vel_models, sharey=True)#, sharex=True)#, figsize=(num_vel_models*2, 10))\n",
    "    for i in range(num_vel_models):\n",
    "        ax = axs[i]\n",
    "        plt.subplot(1, num_vel_models, i+1)\n",
    "        vel_model = vel_models_list[i]\n",
    "        x_vals = list(itertools.chain(*zip(vel_model.df['Start'].to_list(), vel_model.df['Stop'].to_list())))\n",
    "        y_vals = list(itertools.chain(*zip(vel_model.df['Velocity'].to_list(), vel_model.df['Velocity'].to_list())))\n",
    "        ax.set_title(str(vel_model.position) + \" ft\")\n",
    "        ax.plot(y_vals, x_vals, )\n",
    "        min_x = np.min(vel_model.df['Velocity'].to_numpy())\n",
    "        max_x = np.max(vel_model.df['Velocity'].to_numpy())\n",
    "        base_diff = max_x - min_x\n",
    "        min_x = min_x - base_diff/2\n",
    "        max_x = max_x + base_diff/5\n",
    "        ax.set_xlim(min_x, max_x)\n",
    "        ax.get_xaxis().set_visible(False)\n",
    "    plt.ylim(0, 100)\n",
    "    plt.gca().invert_yaxis()\n",
    "    plt.tight_layout()\n",
    "    plt.show()\n",
    "plot_multi_vel_models(vel_models)"
   ],
   "id": "4e1527e647aa988e",
   "outputs": [
    {
     "data": {
      "text/plain": [
       "<Figure size 640x480 with 5 Axes>"
      ],
      "image/png": "[encoded data removed]"
     },
     "metadata": {},
     "output_type": "display_data"
    }
   ],
   "execution_count": 58
  },
  {
   "metadata": {},
   "cell_type": "code",
   "outputs": [],
   "execution_count": null,
   "source": "",
   "id": "c5c237f9841f3c9"
  }
 ],
 "metadata": {
  "kernelspec": {
   "name": "python3",
   "language": "python",
   "display_name": "Python 3 (ipykernel)"
  }
 },
 "nbformat": 5,
 "nbformat_minor": 9
}
