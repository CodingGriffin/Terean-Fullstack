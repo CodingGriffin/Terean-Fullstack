{
 "cells": [
  {
   "cell_type": "code",
   "id": "initial_id",
   "metadata": {
    "ExecuteTime": {
     "end_time": "2025-01-31T15:55:09.876421Z",
     "start_time": "2025-01-31T15:55:09.866290Z"
    }
   },
   "source": [
    "from set_notebook_path import check_path\n",
    "check_path()"
   ],
   "outputs": [],
   "execution_count": 1
  },
  {
   "metadata": {
    "ExecuteTime": {
     "end_time": "2025-01-30T12:01:16.592398Z",
     "start_time": "2025-01-30T12:01:15.495771Z"
    }
   },
   "cell_type": "code",
   "source": [
    "# Notebook to help validate javascript dispersion code\n",
    "import numpy as np\n",
    "import disba\n",
    "import evodcinv\n",
    "from backend.utils.utils import VelocityModel"
   ],
   "id": "6b410c846e7ab7e7",
   "outputs": [],
   "execution_count": 2
  },
  {
   "cell_type": "code",
   "execution_count": 6,
   "id": "d998b60932de8f46",
   "metadata": {
    "ExecuteTime": {
     "end_time": "2025-01-23T06:05:44.612758Z",
     "start_time": "2025-01-23T06:05:44.598753Z"
    }
   },
   "outputs": [],
   "source": [
    "test_model = VelocityModel.from_file(\"disper_test_model.txt\")"
   ]
  },
  {
   "cell_type": "code",
   "execution_count": 7,
   "id": "18bbefabe7ed002",
   "metadata": {
    "ExecuteTime": {
     "end_time": "2025-01-23T06:05:44.782321Z",
     "start_time": "2025-01-23T06:05:44.771319Z"
    }
   },
   "outputs": [
    {
     "data": {
      "text/html": [
       "<div>\n",
       "<style scoped>\n",
       "    .dataframe tbody tr th:only-of-type {\n",
       "        vertical-align: middle;\n",
       "    }\n",
       "\n",
       "    .dataframe tbody tr th {\n",
       "        vertical-align: top;\n",
       "    }\n",
       "\n",
       "    .dataframe thead th {\n",
       "        text-align: right;\n",
       "    }\n",
       "</style>\n",
       "<table border=\"1\" class=\"dataframe\">\n",
       "  <thead>\n",
       "    <tr style=\"text-align: right;\">\n",
       "      <th></th>\n",
       "      <th>Start</th>\n",
       "      <th>Stop</th>\n",
       "      <th>Thickness</th>\n",
       "      <th>Density</th>\n",
       "      <th>Velocity</th>\n",
       "    </tr>\n",
       "  </thead>\n",
       "  <tbody>\n",
       "    <tr>\n",
       "      <th>[0.0, 30.0)</th>\n",
       "      <td>0.0</td>\n",
       "      <td>30.0</td>\n",
       "      <td>30.0</td>\n",
       "      <td>2.0</td>\n",
       "      <td>760.0</td>\n",
       "    </tr>\n",
       "    <tr>\n",
       "      <th>[30.0, 44.0)</th>\n",
       "      <td>30.0</td>\n",
       "      <td>44.0</td>\n",
       "      <td>14.0</td>\n",
       "      <td>2.0</td>\n",
       "      <td>1061.0</td>\n",
       "    </tr>\n",
       "    <tr>\n",
       "      <th>[44.0, 144.0)</th>\n",
       "      <td>44.0</td>\n",
       "      <td>144.0</td>\n",
       "      <td>100.0</td>\n",
       "      <td>2.0</td>\n",
       "      <td>1235.0</td>\n",
       "    </tr>\n",
       "  </tbody>\n",
       "</table>\n",
       "</div>"
      ],
      "text/plain": [
       "               Start   Stop  Thickness  Density  Velocity\n",
       "[0.0, 30.0)      0.0   30.0       30.0      2.0     760.0\n",
       "[30.0, 44.0)    30.0   44.0       14.0      2.0    1061.0\n",
       "[44.0, 144.0)   44.0  144.0      100.0      2.0    1235.0"
      ]
     },
     "execution_count": 7,
     "metadata": {},
     "output_type": "execute_result"
    }
   ],
   "source": [
    "test_model.df"
   ]
  },
  {
   "cell_type": "code",
   "execution_count": 9,
   "id": "adbff9dcd7c30b64",
   "metadata": {
    "ExecuteTime": {
     "end_time": "2025-01-23T06:10:35.718592Z",
     "start_time": "2025-01-23T06:10:29.194915Z"
    }
   },
   "outputs": [],
   "source": [
    "disper = disba.PhaseDispersion(\n",
    "    **test_model.get_disba_params(),\n",
    "    algorithm=\"\"\n",
    ")\n",
    "disper_periods = np.linspace(start=0.02, stop=0.5, num=20)\n",
    "disper_curve = disper(disper_periods)\n",
    "disper_vels = (disper_curve.velocity * 1000)\n",
    "disper_slows = 1.0 / disper_vels"
   ]
  },
  {
   "cell_type": "code",
   "execution_count": 10,
   "id": "15a1fe4cffae2498",
   "metadata": {
    "ExecuteTime": {
     "end_time": "2025-01-23T06:19:26.613398Z",
     "start_time": "2025-01-23T06:19:26.600398Z"
    }
   },
   "outputs": [
    {
     "data": {
      "text/plain": [
       "array([0.02      , 0.04526316, 0.07052632, 0.09578947, 0.12105263,\n",
       "       0.14631579, 0.17157895, 0.19684211, 0.22210526, 0.24736842,\n",
       "       0.27263158, 0.29789474, 0.32315789, 0.34842105, 0.37368421,\n",
       "       0.39894737, 0.42421053, 0.44947368, 0.47473684, 0.5       ])"
      ]
     },
     "execution_count": 10,
     "metadata": {},
     "output_type": "execute_result"
    }
   ],
   "source": [
    "disper_periods"
   ]
  },
  {
   "cell_type": "code",
   "execution_count": 11,
   "id": "90b27fab7d5cc633",
   "metadata": {
    "ExecuteTime": {
     "end_time": "2025-01-23T07:23:39.338389Z",
     "start_time": "2025-01-23T07:23:39.327125Z"
    }
   },
   "outputs": [
    {
     "data": {
      "text/plain": [
       "array([ 696.92880503,  702.29806773,  733.33139292,  799.56369273,\n",
       "        879.97690073,  938.33444468,  973.15683237,  995.03854624,\n",
       "       1010.19174448, 1021.55465952, 1030.57382456, 1038.02072398,\n",
       "       1044.3396937 , 1049.80783335, 1054.60824839, 1058.86911265,\n",
       "       1062.68319956, 1066.12130991, 1069.23837534, 1072.07956187])"
      ]
     },
     "execution_count": 11,
     "metadata": {},
     "output_type": "execute_result"
    }
   ],
   "source": [
    "disper_vels"
   ]
  },
  {
   "cell_type": "code",
   "execution_count": 12,
   "id": "dd6ece4b26192966",
   "metadata": {
    "ExecuteTime": {
     "end_time": "2025-01-23T07:30:28.987189Z",
     "start_time": "2025-01-23T07:30:28.973566Z"
    }
   },
   "outputs": [
    {
     "data": {
      "text/plain": [
       "{'thickness': array([0.03 , 0.014, 0.1  ]),\n",
       " 'velocity_p': array([1.292 , 1.8037, 2.0995]),\n",
       " 'velocity_s': array([0.76 , 1.061, 1.235]),\n",
       " 'density': array([0.002, 0.002, 0.002])}"
      ]
     },
     "execution_count": 12,
     "metadata": {},
     "output_type": "execute_result"
    }
   ],
   "source": [
    "test_model.get_disba_params()"
   ]
  },
  {
   "cell_type": "code",
   "execution_count": null,
   "id": "94afddbe3ae97b0f",
   "metadata": {},
   "outputs": [],
   "source": []
  }
 ],
 "metadata": {
  "kernelspec": {
   "display_name": "Python 3 (ipykernel)",
   "language": "python",
   "name": "python3"
  },
  "language_info": {
   "codemirror_mode": {
    "name": "ipython",
    "version": 3
   },
   "file_extension": ".py",
   "mimetype": "text/x-python",
   "name": "python",
   "nbconvert_exporter": "python",
   "pygments_lexer": "ipython3",
   "version": "3.10.1"
  }
 },
 "nbformat": 4,
 "nbformat_minor": 5
}
